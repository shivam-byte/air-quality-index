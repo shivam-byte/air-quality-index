{
  "cells": [
    {
      "cell_type": "code",
      "execution_count": null,
      "metadata": {
        "colab": {
          "base_uri": "https://localhost:8080/"
        },
        "id": "d1VFAdt-pypE",
        "outputId": "ea95ccf6-7729-4d57-ac64-932bfdf3171d"
      },
      "outputs": [
        {
          "name": "stdout",
          "output_type": "stream",
          "text": [
            "Requirement already satisfied: flask in /usr/local/lib/python3.10/dist-packages (2.2.5)\n",
            "Requirement already satisfied: Werkzeug>=2.2.2 in /usr/local/lib/python3.10/dist-packages (from flask) (3.0.4)\n",
            "Requirement already satisfied: Jinja2>=3.0 in /usr/local/lib/python3.10/dist-packages (from flask) (3.1.4)\n",
            "Requirement already satisfied: itsdangerous>=2.0 in /usr/local/lib/python3.10/dist-packages (from flask) (2.2.0)\n",
            "Requirement already satisfied: click>=8.0 in /usr/local/lib/python3.10/dist-packages (from flask) (8.1.7)\n",
            "Requirement already satisfied: MarkupSafe>=2.0 in /usr/local/lib/python3.10/dist-packages (from Jinja2>=3.0->flask) (2.1.5)\n"
          ]
        }
      ],
      "source": [
        "!pip install flask"
      ]
    },
    {
      "cell_type": "code",
      "execution_count": null,
      "metadata": {
        "colab": {
          "base_uri": "https://localhost:8080/"
        },
        "id": "tEE2nbT4N-oH",
        "outputId": "423a7ad0-2960-4aaa-fd8f-79fe45999894"
      },
      "outputs": [
        {
          "name": "stdout",
          "output_type": "stream",
          "text": [
            "Collecting flask-ngrok\n",
            "  Downloading flask_ngrok-0.0.25-py3-none-any.whl.metadata (1.8 kB)\n",
            "Requirement already satisfied: Flask>=0.8 in /usr/local/lib/python3.10/dist-packages (from flask-ngrok) (2.2.5)\n",
            "Requirement already satisfied: requests in /usr/local/lib/python3.10/dist-packages (from flask-ngrok) (2.32.3)\n",
            "Requirement already satisfied: Werkzeug>=2.2.2 in /usr/local/lib/python3.10/dist-packages (from Flask>=0.8->flask-ngrok) (3.0.4)\n",
            "Requirement already satisfied: Jinja2>=3.0 in /usr/local/lib/python3.10/dist-packages (from Flask>=0.8->flask-ngrok) (3.1.4)\n",
            "Requirement already satisfied: itsdangerous>=2.0 in /usr/local/lib/python3.10/dist-packages (from Flask>=0.8->flask-ngrok) (2.2.0)\n",
            "Requirement already satisfied: click>=8.0 in /usr/local/lib/python3.10/dist-packages (from Flask>=0.8->flask-ngrok) (8.1.7)\n",
            "Requirement already satisfied: charset-normalizer<4,>=2 in /usr/local/lib/python3.10/dist-packages (from requests->flask-ngrok) (3.3.2)\n",
            "Requirement already satisfied: idna<4,>=2.5 in /usr/local/lib/python3.10/dist-packages (from requests->flask-ngrok) (3.8)\n",
            "Requirement already satisfied: urllib3<3,>=1.21.1 in /usr/local/lib/python3.10/dist-packages (from requests->flask-ngrok) (2.0.7)\n",
            "Requirement already satisfied: certifi>=2017.4.17 in /usr/local/lib/python3.10/dist-packages (from requests->flask-ngrok) (2024.7.4)\n",
            "Requirement already satisfied: MarkupSafe>=2.0 in /usr/local/lib/python3.10/dist-packages (from Jinja2>=3.0->Flask>=0.8->flask-ngrok) (2.1.5)\n",
            "Downloading flask_ngrok-0.0.25-py3-none-any.whl (3.1 kB)\n",
            "Installing collected packages: flask-ngrok\n",
            "Successfully installed flask-ngrok-0.0.25\n"
          ]
        }
      ],
      "source": [
        "!pip install flask-ngrok\n"
      ]
    },
    {
      "cell_type": "code",
      "source": [
        "from google.colab.output import eval_js\n",
        "print(eval_js(\"google.colab.kernel.proxyPort(5000)\"))\n",
        "\n"
      ],
      "metadata": {
        "colab": {
          "base_uri": "https://localhost:8080/",
          "height": 34
        },
        "id": "PSxYPJpnMHV8",
        "outputId": "ef81ea85-f972-4e92-e0b1-75d00a12358d"
      },
      "execution_count": null,
      "outputs": [
        {
          "output_type": "stream",
          "name": "stdout",
          "text": [
            "https://gs5bhucg8gt-496ff2e9c6d22116-5000-colab.googleusercontent.com/\n"
          ]
        }
      ]
    },
    {
      "cell_type": "code",
      "source": [],
      "metadata": {
        "id": "p0hGI-ZE_vii"
      },
      "execution_count": null,
      "outputs": []
    },
    {
      "cell_type": "code",
      "execution_count": null,
      "metadata": {
        "id": "aSdNStAWptMW"
      },
      "outputs": [],
      "source": [
        "#from flask_ngrok import run_with_ngrok\n",
        "from flask import Flask, request, render_template_string\n",
        "import numpy as np\n",
        "import pickle\n",
        "\n",
        "app = Flask(__name__)\n",
        "\n",
        "\n",
        "# Load your models and preprocessor\n",
        "decision_tree = pickle.load(open('decisiontreeregressor.pkl', 'rb'))\n",
        "#random_forest = pickle.load(open('randomforest.pkl', 'rb'))\n",
        "linear_regression = pickle.load(open('regression_model (6).pkl', 'rb'))\n",
        "lasso = pickle.load(open('final_lasso (5).pkl', 'rb'))\n",
        "ridge = pickle.load(open('final_ridge (4).pkl', 'rb'))\n",
        "preprocessor = pickle.load(open('preprocessor.pkl', 'rb'))\n",
        "\n",
        "# HTML Templates as strings since we can't use files in Colab\n",
        "index_html = '''\n",
        "<!DOCTYPE html>\n",
        "<html lang=\"en\">\n",
        "<head>\n",
        "    <meta charset=\"UTF-8\">\n",
        "    <meta name=\"viewport\" content=\"width=device-width, initial-scale=1.0\">\n",
        "    <title>Air Quality Prediction</title>\n",
        "</head>\n",
        "<body>\n",
        "    <h1>Air Quality Prediction</h1>\n",
        "    <form action=\"/predict\" method=\"post\">\n",
        "        <label for=\"City\">City:</label><br>\n",
        "        <input type=\"text\" id=\"City\" name=\"City\" required><br><br>\n",
        "        <label for=\"PM2.5\">PM2.5:</label><br>\n",
        "        <input type=\"number\" id=\"PM2.5\" name=\"PM2.5\" required><br><br>\n",
        "        <label for=\"PM10\">PM10:</label><br>\n",
        "        <input type=\"number\" id=\"PM10\" name=\"PM10\" required><br><br>\n",
        "        <label for=\"NO\">NO:</label><br>\n",
        "        <input type=\"number\" id=\"NO\" name=\"NO\" required><br><br>\n",
        "        <label for=\"NO2\">NO2:</label><br>\n",
        "        <input type=\"number\" id=\"NO2\" name=\"NO2\" required><br><br>\n",
        "        <label for=\"NOx\">NOx:</label><br>\n",
        "        <input type=\"number\" id=\"NOx\" name=\"NOx\" required><br><br>\n",
        "        <label for=\"NH3\">NH3:</label><br>\n",
        "        <input type=\"number\" id=\"NH3\" name=\"NH3\" required><br><br>\n",
        "        <label for=\"CO\">CO:</label><br>\n",
        "        <input type=\"number\" id=\"CO\" name=\"CO\" required><br><br>\n",
        "        <label for=\"SO2\">SO2:</label><br>\n",
        "        <input type=\"number\" id=\"SO2\" name=\"SO2\" required><br><br>\n",
        "        <label for=\"O3\">O3:</label><br>\n",
        "        <input type=\"number\" id=\"O3\" name=\"O3\" required><br><br>\n",
        "        <label for=\"Benzene\">Benzene:</label><br>\n",
        "        <input type=\"number\" id=\"Benzene\" name=\"Benzene\" required><br><br>\n",
        "        <label for=\"Toluene\">Toluene:</label><br>\n",
        "        <input type=\"number\" id=\"Toluene\" name=\"Toluene\" required><br><br>\n",
        "        <label for=\"Xylene\">Xylene:</label><br>\n",
        "        <input type=\"number\" id=\"Xylene\" name=\"Xylene\" required><br><br>\n",
        "        <input type=\"submit\" value=\"Predict AQI\">\n",
        "    </form>\n",
        "</body>\n",
        "</html>\n",
        "'''\n",
        "\n",
        "result_html = '''\n",
        "<!DOCTYPE html>\n",
        "<html lang=\"en\">\n",
        "<head>\n",
        "    <meta charset=\"UTF-8\">\n",
        "    <meta name=\"viewport\" content=\"width=device-width, initial-scale=1.0\">\n",
        "    <title>Prediction Results</title>\n",
        "</head>\n",
        "<body>\n",
        "    <h1>Air Quality Prediction Results</h1>\n",
        "    <p><strong>Decision Tree Prediction:</strong> {{ prediction1 }}</p>\n",
        "    <p><strong>Random Forest Prediction:</strong> {{ prediction2 }}</p>\n",
        "    <p><strong>Linear Regression Prediction:</strong> {{ prediction3 }}</p>\n",
        "    <p><strong>Lasso Regression Prediction:</strong> {{ prediction4 }}</p>\n",
        "    <p><strong>Ridge Regression Prediction:</strong> {{ prediction5 }}</p>\n",
        "    <a href=\"/\">Back to Home</a>\n",
        "</body>\n",
        "</html>\n",
        "'''\n",
        "\n",
        "@app.route('/')\n",
        "def index():\n",
        "    return render_template_string(index_html)\n",
        "\n",
        "@app.route('/predict', methods=['POST'])\n",
        "def predict():\n",
        "    features = [float(request.form.get(feature)) for feature in ['PM2.5', 'PM10', 'NO', 'NO2', 'NOx', 'NH3', 'CO', 'SO2', 'O3', 'Benzene', 'Toluene', 'Xylene']]\n",
        "    city = request.form.get('City')  # Assuming 'City' is a category that you may handle separately\n",
        "    features = np.array(features).reshape(1, -1)\n",
        "    scaled_features = preprocessor.transform(features)\n",
        "\n",
        "    prediction1 = decision_tree.predict(scaled_features)[0]\n",
        "    #prediction2 = random_forest.predict(scaled_features)[0]\n",
        "    prediction3 = linear_regression.predict(scaled_features)[0]\n",
        "    prediction4 = lasso.predict(scaled_features)[0]\n",
        "    prediction5 = ridge.predict(scaled_features)[0]\n",
        "\n",
        "    return render_template_string(result_html,\n",
        "                                  prediction1=prediction1,\n",
        "                                  #prediction2=prediction2,\n",
        "                                  prediction3=prediction3,\n",
        "                                  prediction4=prediction4,\n",
        "                                  prediction5=prediction5)\n",
        "\n",
        "\n"
      ]
    },
    {
      "cell_type": "code",
      "source": [
        "from google.colab import output\n",
        "output.serve_kernel_port_as_window(5000)"
      ],
      "metadata": {
        "colab": {
          "base_uri": "https://localhost:8080/",
          "height": 34
        },
        "id": "5L-aSCzlOc1Y",
        "outputId": "dcb3cc96-4bae-45d8-b43f-65b992bbc470"
      },
      "execution_count": null,
      "outputs": [
        {
          "output_type": "display_data",
          "data": {
            "text/plain": [
              "<IPython.core.display.Javascript object>"
            ],
            "application/javascript": [
              "(async (port, path, text, element) => {\n",
              "    if (!google.colab.kernel.accessAllowed) {\n",
              "      return;\n",
              "    }\n",
              "    element.appendChild(document.createTextNode(''));\n",
              "    const url = await google.colab.kernel.proxyPort(port);\n",
              "    const anchor = document.createElement('a');\n",
              "    anchor.href = new URL(path, url).toString();\n",
              "    anchor.target = '_blank';\n",
              "    anchor.setAttribute('data-href', url + path);\n",
              "    anchor.textContent = text;\n",
              "    element.appendChild(anchor);\n",
              "  })(5000, \"/\", \"https://localhost:5000/\", window.element)"
            ]
          },
          "metadata": {}
        }
      ]
    },
    {
      "cell_type": "code",
      "execution_count": 1,
      "metadata": {
        "colab": {
          "base_uri": "https://localhost:8080/",
          "height": 139
        },
        "id": "ThF5Wag_ZjH0",
        "outputId": "be1d9ac2-4ec5-4bb0-c7d8-9bb52ddf55a3"
      },
      "outputs": [
        {
          "output_type": "error",
          "ename": "NameError",
          "evalue": "name 'app' is not defined",
          "traceback": [
            "\u001b[0;31m---------------------------------------------------------------------------\u001b[0m",
            "\u001b[0;31mNameError\u001b[0m                                 Traceback (most recent call last)",
            "\u001b[0;32m<ipython-input-1-b72f3165c8a5>\u001b[0m in \u001b[0;36m<cell line: 1>\u001b[0;34m()\u001b[0m\n\u001b[0;32m----> 1\u001b[0;31m \u001b[0mapp\u001b[0m\u001b[0;34m.\u001b[0m\u001b[0mrun\u001b[0m\u001b[0;34m(\u001b[0m\u001b[0;34m)\u001b[0m\u001b[0;34m\u001b[0m\u001b[0;34m\u001b[0m\u001b[0m\n\u001b[0m",
            "\u001b[0;31mNameError\u001b[0m: name 'app' is not defined"
          ]
        }
      ],
      "source": [
        "\n",
        "app.run()"
      ]
    },
    {
      "cell_type": "code",
      "execution_count": null,
      "metadata": {
        "id": "0St4rYduyKUK"
      },
      "outputs": [],
      "source": []
    },
    {
      "cell_type": "code",
      "execution_count": null,
      "metadata": {
        "id": "0G6GQraob4HM"
      },
      "outputs": [],
      "source": []
    },
    {
      "cell_type": "code",
      "execution_count": null,
      "metadata": {
        "id": "lbKXioUrcakT"
      },
      "outputs": [],
      "source": []
    },
    {
      "cell_type": "code",
      "execution_count": null,
      "metadata": {
        "id": "PBFIbtdgMeGv"
      },
      "outputs": [],
      "source": []
    },
    {
      "cell_type": "code",
      "execution_count": null,
      "metadata": {
        "id": "XVFFIGtRM6IW"
      },
      "outputs": [],
      "source": []
    },
    {
      "cell_type": "code",
      "execution_count": null,
      "metadata": {
        "id": "ZReoHuWcM-Rd"
      },
      "outputs": [],
      "source": []
    },
    {
      "cell_type": "code",
      "execution_count": null,
      "metadata": {
        "id": "-JJh9qJuNW_p"
      },
      "outputs": [],
      "source": []
    }
  ],
  "metadata": {
    "colab": {
      "provenance": [],
      "authorship_tag": "ABX9TyNLbfWZ/Wowo/jJLScQhAdr"
    },
    "kernelspec": {
      "display_name": "Python 3",
      "name": "python3"
    },
    "language_info": {
      "name": "python"
    }
  },
  "nbformat": 4,
  "nbformat_minor": 0
}